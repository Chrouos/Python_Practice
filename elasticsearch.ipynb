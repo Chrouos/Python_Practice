{
 "cells": [
  {
   "cell_type": "code",
   "execution_count": 2,
   "metadata": {},
   "outputs": [],
   "source": [
    "from elasticsearch import Elasticsearch"
   ]
  },
  {
   "cell_type": "code",
   "execution_count": null,
   "metadata": {},
   "outputs": [],
   "source": [
    "# Create, Delete.\n",
    "\n",
    "# : Connect Setting\n",
    "index_name = 'test_name' # = create name.\n",
    "es = Elasticsearch(hosts=[\"http://localhost:9200\"])\n",
    "\n",
    "# @ Create Index with mappings\n",
    "if not es.indices.exists(index=index_name):\n",
    "    es.indices.create(index=index_name, body={\"mappings\": {\n",
    "        \"properties\": {\n",
    "            \"url\": { \n",
    "                \"type\": \"text\"\n",
    "            },\n",
    "            \"title\": {\n",
    "                \"type\": \"text\"\n",
    "            },\n",
    "        }\n",
    "    }})\n",
    "    print('Index and mappings created!')\n",
    "else:\n",
    "    print('Index already exists!')\n",
    "    \n",
    "    \n",
    "# @ Delete Index with mappings\n",
    "response = es.indices.delete(index=index_name, ignore=[400, 404])"
   ]
  }
 ],
 "metadata": {
  "kernelspec": {
   "display_name": "Python 3",
   "language": "python",
   "name": "python3"
  },
  "language_info": {
   "codemirror_mode": {
    "name": "ipython",
    "version": 3
   },
   "file_extension": ".py",
   "mimetype": "text/x-python",
   "name": "python",
   "nbconvert_exporter": "python",
   "pygments_lexer": "ipython3",
   "version": "3.11.5"
  }
 },
 "nbformat": 4,
 "nbformat_minor": 2
}
