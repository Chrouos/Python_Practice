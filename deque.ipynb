{
 "cells": [
  {
   "cell_type": "code",
   "execution_count": null,
   "metadata": {},
   "outputs": [],
   "source": [
    "# import  deque package\n",
    "import collections"
   ]
  },
  {
   "cell_type": "markdown",
   "metadata": {},
   "source": [
    "Create the Collection by deque."
   ]
  },
  {
   "cell_type": "code",
   "execution_count": null,
   "metadata": {},
   "outputs": [],
   "source": [
    "# Add the elements to the deque\n",
    "dq = collections.deque(\"12345\")\n",
    "\n",
    "# If we try to collection the text to the deque, it will add the text to the right of the deque\n",
    "dq"
   ]
  },
  {
   "cell_type": "markdown",
   "metadata": {},
   "source": [
    "Input"
   ]
  },
  {
   "cell_type": "code",
   "execution_count": null,
   "metadata": {},
   "outputs": [],
   "source": [
    "\n",
    "# original deque element\n",
    "print(dq)\n",
    "\n",
    "# \"append\": add the element to the right of the deque\n",
    "dq.append(\"6\")\n",
    "print(dq) \n",
    "\n",
    "# \"appendleft\": add the element to the left of the deque\n",
    "dq.appendleft(\"0\")\n",
    "print(dq)\n",
    "\n",
    "\n",
    "print(\"------------------------------------------------------------------------------------------------------\")\n",
    "\n",
    "# \"extend\": add the list of elements to the right of the deque\n",
    "dq.extend([\"7\", \"8\", \"9\"])\n",
    "print(dq)\n",
    "\n",
    "# \"extendleft\": add the list of elements to the left of the deque (in \"reverse\" order)\n",
    "dq.extendleft([\"-1\", \"-2\", \"-3\"])\n",
    "print(dq)\n",
    "\n",
    "\n",
    "print(\"------------------------------------------------------------------------------------------------------\")\n",
    "\n",
    "# \"insert\": insert the element to the deque (index, value)\n",
    "dq.insert(3, \"|\")\n",
    "print(dq)\n",
    "\n",
    "# \"insert\": insert the element to the deque (index, value)\n",
    "dq.insert(-2, \"@\")\n",
    "print(dq)\n"
   ]
  },
  {
   "cell_type": "markdown",
   "metadata": {},
   "source": [
    "output"
   ]
  },
  {
   "cell_type": "code",
   "execution_count": null,
   "metadata": {},
   "outputs": [],
   "source": [
    "# original deque element\n",
    "print(dq)\n",
    "\n",
    "# \"remove\": remove the element from the deque (value)\n",
    "if '|' in dq: dq.remove('|')\n",
    "print(dq)\n",
    "\n",
    "dq.pop()\n",
    "print(dq)\n",
    "\n",
    "# \"pop\": remove the element from the right of the deque (output the value)\n",
    "# dq.pop()\n",
    "# print(dq)\n",
    "\n",
    "# # \"popleft\": remove the element from the left of the deque (output the value)\n",
    "# dq.popleft()\n",
    "# print(dq)\n",
    "\n",
    "# # Specify the Index to remove\n",
    "# index = 3\n",
    "# dq.rotate(-index)\n",
    "# dq.pop()\n",
    "# dq.rotate(index)\n"
   ]
  },
  {
   "cell_type": "code",
   "execution_count": null,
   "metadata": {},
   "outputs": [],
   "source": []
  }
 ],
 "metadata": {
  "kernelspec": {
   "display_name": "Python 3",
   "language": "python",
   "name": "python3"
  },
  "language_info": {
   "codemirror_mode": {
    "name": "ipython",
    "version": 3
   },
   "file_extension": ".py",
   "mimetype": "text/x-python",
   "name": "python",
   "nbconvert_exporter": "python",
   "pygments_lexer": "ipython3",
   "version": "3.11.5"
  }
 },
 "nbformat": 4,
 "nbformat_minor": 2
}
